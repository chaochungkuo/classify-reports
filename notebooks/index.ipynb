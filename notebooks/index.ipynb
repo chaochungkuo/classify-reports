{
 "cells": [
  {
   "cell_type": "raw",
   "metadata": {
    "vscode": {
     "languageId": "raw"
    }
   },
   "source": [
    "---\n",
    "title: \"Classification Report\"\n",
    "author:\n",
    "  Chao-Chung Kuo\n",
    "date: today\n",
    "format:\n",
    "  html:\n",
    "    toc: true\n",
    "    toc-depth: 3\n",
    "    toc-expand: 3\n",
    "    toc-location: left\n",
    "    html-math-method: katex\n",
    "    code-fold: true\n",
    "    code-tools: true\n",
    "    embed-resources: true\n",
    "    page-layout: full\n",
    "    html-table-processing: none\n",
    "    other-links:\n",
    "      - text: GitHub repo\n",
    "        href: https://github.com/chaochungkuo/ClassifyAnything\n",
    "execute:\n",
    "    echo: true\n",
    "    warning: false\n",
    "---"
   ]
  },
  {
   "cell_type": "markdown",
   "metadata": {},
   "source": [
    "Below are the main reports documenting each stage of the machine learning pipeline:\n",
    "\n",
    "### [01 Data Ingestion](01_data_ingestion.html)\n",
    "Raw data loading, initial checks, and data format standardization.\n",
    "\n",
    "### [02 Data Exploration](02_data_exploration.html)\n",
    "Exploratory data analysis, summary statistics, and visualizations.\n",
    "\n",
    "### [03 Preprocessing](03_preprocessing.html)\n",
    "Data cleaning, missing value handling, and feature engineering.\n",
    "\n",
    "### [04 Feature Selection](04_feature_selection.html)\n",
    "Feature importance analysis and selection for modeling.\n",
    "\n",
    "### [05 Model Training & Evaluation](05_model_train_eval.html)\n",
    "Model training, cross-validation, and performance evaluation.\n",
    "\n",
    "### [06 Model Deployment: Final Model Preparation](06_deployment.html)\n",
    "Deploying the final model for future prediction"
   ]
  }
 ],
 "metadata": {
  "kernelspec": {
   "display_name": "default",
   "language": "python",
   "name": "python3"
  },
  "language_info": {
   "codemirror_mode": {
    "name": "ipython",
    "version": 3
   },
   "file_extension": ".py",
   "mimetype": "text/x-python",
   "name": "python",
   "nbconvert_exporter": "python",
   "pygments_lexer": "ipython3",
   "version": "3.13.5"
  }
 },
 "nbformat": 4,
 "nbformat_minor": 2
}
